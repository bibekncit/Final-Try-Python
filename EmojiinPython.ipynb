{
 "cells": [
  {
   "cell_type": "code",
   "execution_count": 1,
   "id": "11102acb",
   "metadata": {},
   "outputs": [
    {
     "data": {
      "text/plain": [
       "'🤗'"
      ]
     },
     "execution_count": 1,
     "metadata": {},
     "output_type": "execute_result"
    }
   ],
   "source": [
    "hug = '\\U0001F917'\n",
    "hug"
   ]
  },
  {
   "cell_type": "code",
   "execution_count": 3,
   "id": "07dd9e9d",
   "metadata": {},
   "outputs": [
    {
     "data": {
      "text/plain": [
       "'😷'"
      ]
     },
     "execution_count": 3,
     "metadata": {},
     "output_type": "execute_result"
    }
   ],
   "source": [
    "mask = '\\U0001F637'\n",
    "mask"
   ]
  },
  {
   "cell_type": "code",
   "execution_count": 4,
   "id": "56762ce9",
   "metadata": {},
   "outputs": [
    {
     "data": {
      "text/plain": [
       "'😪'"
      ]
     },
     "execution_count": 4,
     "metadata": {},
     "output_type": "execute_result"
    }
   ],
   "source": [
    "ayya = '\\U0001F62A'\n",
    "ayya"
   ]
  },
  {
   "cell_type": "code",
   "execution_count": 6,
   "id": "824dadc1",
   "metadata": {},
   "outputs": [
    {
     "data": {
      "text/plain": [
       "'😘'"
      ]
     },
     "execution_count": 6,
     "metadata": {},
     "output_type": "execute_result"
    }
   ],
   "source": [
    "love = '\\U0001F618'\n",
    "love"
   ]
  },
  {
   "cell_type": "code",
   "execution_count": null,
   "id": "9b08f23d",
   "metadata": {},
   "outputs": [],
   "source": []
  }
 ],
 "metadata": {
  "kernelspec": {
   "display_name": "Python 3",
   "language": "python",
   "name": "python3"
  },
  "language_info": {
   "codemirror_mode": {
    "name": "ipython",
    "version": 3
   },
   "file_extension": ".py",
   "mimetype": "text/x-python",
   "name": "python",
   "nbconvert_exporter": "python",
   "pygments_lexer": "ipython3",
   "version": "3.6.9"
  }
 },
 "nbformat": 4,
 "nbformat_minor": 5
}
