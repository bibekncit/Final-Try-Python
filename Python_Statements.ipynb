{
 "cells": [
  {
   "cell_type": "markdown",
   "id": "c21e72a4",
   "metadata": {},
   "source": [
    "## Control Flow:\n",
    "    ## if , elif , else"
   ]
  },
  {
   "cell_type": "code",
   "execution_count": 3,
   "id": "551995f9",
   "metadata": {},
   "outputs": [
    {
     "name": "stdout",
     "output_type": "stream",
     "text": [
      "It's True\n"
     ]
    }
   ],
   "source": [
    "if True:\n",
    "    print(\"It's True\")"
   ]
  },
  {
   "cell_type": "code",
   "execution_count": 9,
   "id": "8839d3e5",
   "metadata": {},
   "outputs": [
    {
     "name": "stdout",
     "output_type": "stream",
     "text": [
      "I am not hungry\n"
     ]
    }
   ],
   "source": [
    "hungry = False\n",
    "if hungry:\n",
    "    print('Feed Me!')\n",
    "else:\n",
    "    print('I am not hungry')"
   ]
  },
  {
   "cell_type": "code",
   "execution_count": 16,
   "id": "42bc0892",
   "metadata": {},
   "outputs": [
    {
     "name": "stdout",
     "output_type": "stream",
     "text": [
      "Enter your location, PleaseBank\n",
      "Money is cool\n"
     ]
    }
   ],
   "source": [
    "loc = input(\"Enter your location, Please\")\n",
    "if loc == 'Auto Shop':\n",
    "    print('Cars are cool')\n",
    "elif loc == 'Bank':\n",
    "    print('Money is cool')\n",
    "elif loc == 'Store':\n",
    "    print('Welcome to the store')\n",
    "else:\n",
    "    print(\"I don't know much\")\n"
   ]
  },
  {
   "cell_type": "markdown",
   "id": "ee02e8e5",
   "metadata": {},
   "source": [
    " ## for loop in Python"
   ]
  },
  {
   "cell_type": "code",
   "execution_count": 29,
   "id": "e38bc37a",
   "metadata": {},
   "outputs": [
    {
     "name": "stdout",
     "output_type": "stream",
     "text": [
      "1\n",
      "2\n",
      "3\n"
     ]
    }
   ],
   "source": [
    "my_iterable = [1,2,3]\n",
    "for item_name in my_iterable:\n",
    "    print(item_name)"
   ]
  },
  {
   "cell_type": "code",
   "execution_count": 1,
   "id": "7c962b4c",
   "metadata": {},
   "outputs": [],
   "source": [
    "mylist = [1,2,3,4,5,6,7,8,9,10]\n"
   ]
  },
  {
   "cell_type": "code",
   "execution_count": 37,
   "id": "ef922c42",
   "metadata": {},
   "outputs": [
    {
     "name": "stdout",
     "output_type": "stream",
     "text": [
      "Enter the number you want to find table 12\n",
      "12\n",
      "24\n",
      "36\n",
      "48\n",
      "60\n",
      "72\n",
      "84\n",
      "96\n",
      "108\n",
      "120\n"
     ]
    }
   ],
   "source": [
    "number = int(input('Enter the number you want to find table '))\n",
    "for num in mylist:\n",
    "    print(num*number)\n",
    "    "
   ]
  },
  {
   "cell_type": "code",
   "execution_count": 39,
   "id": "3867e2d8",
   "metadata": {},
   "outputs": [
    {
     "name": "stdout",
     "output_type": "stream",
     "text": [
      "1  is odd\n",
      "2  is even\n",
      "3  is odd\n",
      "4  is even\n",
      "5  is odd\n",
      "6  is even\n",
      "7  is odd\n",
      "8  is even\n",
      "9  is odd\n",
      "10  is even\n"
     ]
    }
   ],
   "source": [
    "for num in mylist:\n",
    "    if num % 2 == 0:\n",
    "        print(num, ' is even')\n",
    "    else:\n",
    "        print(num, ' is odd')\n"
   ]
  },
  {
   "cell_type": "code",
   "execution_count": 7,
   "id": "168725c1",
   "metadata": {},
   "outputs": [
    {
     "name": "stdout",
     "output_type": "stream",
     "text": [
      "The sum is  55\n"
     ]
    }
   ],
   "source": [
    "list_sum = 0\n",
    "for num in mylist:\n",
    "    list_sum = list_sum + num\n",
    "print(\"The sum is \",list_sum )"
   ]
  },
  {
   "cell_type": "code",
   "execution_count": 8,
   "id": "3a72e863",
   "metadata": {},
   "outputs": [
    {
     "data": {
      "text/plain": [
       "55"
      ]
     },
     "execution_count": 8,
     "metadata": {},
     "output_type": "execute_result"
    }
   ],
   "source": [
    "list_sum\n"
   ]
  },
  {
   "cell_type": "code",
   "execution_count": 25,
   "id": "0e053d71",
   "metadata": {},
   "outputs": [
    {
     "name": "stdout",
     "output_type": "stream",
     "text": [
      "B\n",
      "i\n",
      "b\n",
      "e\n",
      "k\n"
     ]
    },
    {
     "data": {
      "text/plain": [
       "str"
      ]
     },
     "execution_count": 25,
     "metadata": {},
     "output_type": "execute_result"
    }
   ],
   "source": [
    "\n",
    "for letter in 'Bibek':\n",
    "    print(letter)\n",
    "type(letter)"
   ]
  },
  {
   "cell_type": "code",
   "execution_count": 26,
   "id": "619656eb",
   "metadata": {},
   "outputs": [
    {
     "name": "stdout",
     "output_type": "stream",
     "text": [
      "1\n",
      "2\n",
      "3\n",
      "4\n"
     ]
    }
   ],
   "source": [
    "tup = (1,2,3,4)\n",
    "for items in tup:\n",
    "    print(items)\n",
    "\n",
    "\n"
   ]
  },
  {
   "cell_type": "code",
   "execution_count": 56,
   "id": "267e9dd4",
   "metadata": {},
   "outputs": [
    {
     "data": {
      "text/plain": [
       "3"
      ]
     },
     "execution_count": 56,
     "metadata": {},
     "output_type": "execute_result"
    }
   ],
   "source": [
    "mylist = [(1,2),(3,4),(5,6)]\n",
    "len(mylist)"
   ]
  },
  {
   "cell_type": "code",
   "execution_count": 57,
   "id": "44606b82",
   "metadata": {},
   "outputs": [],
   "source": [
    "mylist[0] = (7,8)"
   ]
  },
  {
   "cell_type": "code",
   "execution_count": 46,
   "id": "5c0f56bf",
   "metadata": {},
   "outputs": [
    {
     "data": {
      "text/plain": [
       "[(7, 8), (3, 4), (5, 6)]"
      ]
     },
     "execution_count": 46,
     "metadata": {},
     "output_type": "execute_result"
    }
   ],
   "source": [
    "mylist"
   ]
  },
  {
   "cell_type": "code",
   "execution_count": 52,
   "id": "a52e40d5",
   "metadata": {},
   "outputs": [
    {
     "name": "stdout",
     "output_type": "stream",
     "text": [
      "(7, 8)\n",
      "(3, 4)\n",
      "(5, 6)\n"
     ]
    }
   ],
   "source": [
    "for item in mylist:\n",
    "    print(item)"
   ]
  },
  {
   "cell_type": "code",
   "execution_count": 58,
   "id": "6d3d0065",
   "metadata": {},
   "outputs": [
    {
     "name": "stdout",
     "output_type": "stream",
     "text": [
      "The sum of total tuple are:\n",
      "15\n",
      "22\n",
      "33\n",
      "33\n"
     ]
    }
   ],
   "source": [
    "print('The sum of total tuple are:')\n",
    "total = 0\n",
    "for (a,b) in mylist:\n",
    "    total =total+ a + b\n",
    "    print(total)\n",
    "print(total)    "
   ]
  },
  {
   "cell_type": "code",
   "execution_count": 1,
   "id": "24aedd8d",
   "metadata": {},
   "outputs": [],
   "source": [
    "mylist = [(1,2,3),(5,6,7)]"
   ]
  },
  {
   "cell_type": "code",
   "execution_count": 4,
   "id": "921dcc6d",
   "metadata": {},
   "outputs": [
    {
     "name": "stdout",
     "output_type": "stream",
     "text": [
      "1 2 3\n",
      "<class 'int'>\n",
      "5 6 7\n",
      "<class 'int'>\n"
     ]
    }
   ],
   "source": [
    "for (a,b,c) in mylist:\n",
    "    print(a,b,c)\n",
    "    print(type(a))"
   ]
  },
  {
   "cell_type": "code",
   "execution_count": 1,
   "id": "690d7735",
   "metadata": {},
   "outputs": [],
   "source": [
    "d = {'k1':1, 'k2':2, 'k3':3} #Dictionary in for loop"
   ]
  },
  {
   "cell_type": "code",
   "execution_count": 2,
   "id": "77249b94",
   "metadata": {},
   "outputs": [
    {
     "name": "stdout",
     "output_type": "stream",
     "text": [
      "k1\n",
      "k2\n",
      "k3\n"
     ]
    }
   ],
   "source": [
    "for item in d:\n",
    "    print(item) #we only iterate keys by default"
   ]
  },
  {
   "cell_type": "code",
   "execution_count": 3,
   "id": "22b5f153",
   "metadata": {},
   "outputs": [
    {
     "name": "stdout",
     "output_type": "stream",
     "text": [
      "('k1', 1)\n",
      "('k2', 2)\n",
      "('k3', 3)\n"
     ]
    }
   ],
   "source": [
    "for values in d.items(): #.items()\n",
    "    print(values)\n",
    "    \n",
    "    "
   ]
  },
  {
   "cell_type": "code",
   "execution_count": 4,
   "id": "b71b2157",
   "metadata": {},
   "outputs": [
    {
     "name": "stdout",
     "output_type": "stream",
     "text": [
      "k1 1\n",
      "k2 2\n",
      "k3 3\n"
     ]
    }
   ],
   "source": [
    "for keys,values in d.items():\n",
    "    print(keys,values) #Tuple unpacking"
   ]
  },
  {
   "cell_type": "code",
   "execution_count": 6,
   "id": "41edaec2",
   "metadata": {},
   "outputs": [
    {
     "name": "stdout",
     "output_type": "stream",
     "text": [
      "1\n",
      "2\n",
      "3\n"
     ]
    }
   ],
   "source": [
    "for values in d.values():\n",
    "    print(values)"
   ]
  },
  {
   "cell_type": "markdown",
   "id": "c83b3940",
   "metadata": {},
   "source": [
    "## While Loop "
   ]
  },
  {
   "cell_type": "code",
   "execution_count": 13,
   "id": "9e4b6926",
   "metadata": {},
   "outputs": [
    {
     "name": "stdout",
     "output_type": "stream",
     "text": [
      "The current value of x is  0\n",
      "The current value of x is  1\n",
      "The current value of x is  2\n",
      "The current value of x is  3\n",
      "The current value of x is  4\n",
      "X is not less than 5\n"
     ]
    }
   ],
   "source": [
    "x = 0\n",
    "while x < 5:\n",
    "    print('The current value of x is ',x)\n",
    "    x+=1\n",
    "else:\n",
    "    print('X is not less than 5')"
   ]
  },
  {
   "cell_type": "code",
   "execution_count": 14,
   "id": "eecd9b54",
   "metadata": {},
   "outputs": [],
   "source": [
    "x = [1,2,3]"
   ]
  },
  {
   "cell_type": "code",
   "execution_count": 19,
   "id": "c5731669",
   "metadata": {},
   "outputs": [
    {
     "name": "stdout",
     "output_type": "stream",
     "text": [
      "End of Script\n"
     ]
    }
   ],
   "source": [
    "for item in x:\n",
    "    pass  #Do nothing \n",
    "print('End of Script')"
   ]
  },
  {
   "cell_type": "markdown",
   "id": "3579cdbe",
   "metadata": {},
   "source": [
    "##### break -> Breaks out of current closet enclosing loop\n",
    "\n"
   ]
  },
  {
   "cell_type": "markdown",
   "id": "4acd7e45",
   "metadata": {},
   "source": [
    "#### continue --> Goes to top of the closet enclosing loop"
   ]
  },
  {
   "cell_type": "markdown",
   "id": "034cbc9a",
   "metadata": {},
   "source": [
    "#### pass --> Does nothing at all"
   ]
  },
  {
   "cell_type": "code",
   "execution_count": 3,
   "id": "ccb205a0",
   "metadata": {},
   "outputs": [
    {
     "name": "stdout",
     "output_type": "stream",
     "text": [
      "H\n",
      "l\n",
      "l\n",
      "o\n",
      " \n",
      "W\n",
      "o\n",
      "r\n",
      "l\n"
     ]
    }
   ],
   "source": [
    "for letter in \"Hello World Guys\":\n",
    "    \n",
    "    if letter == 'e':\n",
    "        continue\n",
    "    elif letter == 'd':\n",
    "        break\n",
    "    else:\n",
    "        print(letter)\n",
    "        \n",
    "    "
   ]
  },
  {
   "cell_type": "code",
   "execution_count": 5,
   "id": "7b934240",
   "metadata": {},
   "outputs": [
    {
     "name": "stdout",
     "output_type": "stream",
     "text": [
      "0\n",
      "2\n",
      "4\n",
      "6\n",
      "8\n"
     ]
    }
   ],
   "source": [
    "mylist = [1,2,3]\n",
    "for num in range(0,10,2):\n",
    "    print(num)"
   ]
  },
  {
   "cell_type": "code",
   "execution_count": 6,
   "id": "f1bd3fa0",
   "metadata": {},
   "outputs": [
    {
     "data": {
      "text/plain": [
       "[0, 5, 10, 15]"
      ]
     },
     "execution_count": 6,
     "metadata": {},
     "output_type": "execute_result"
    }
   ],
   "source": [
    "list(range(0,20,5))"
   ]
  },
  {
   "cell_type": "code",
   "execution_count": 7,
   "id": "d17be4c8",
   "metadata": {},
   "outputs": [
    {
     "name": "stdout",
     "output_type": "stream",
     "text": [
      "At index  0 is  a\n",
      "At index  1 is  b\n",
      "At index  2 is  c\n",
      "At index  3 is  d\n",
      "At index  4 is  e\n"
     ]
    }
   ],
   "source": [
    "index_count = 0\n",
    "for letter in 'abcde':\n",
    "    print(\"At index \", index_count, 'is ',letter)\n",
    "    index_count +=1\n",
    "    "
   ]
  },
  {
   "cell_type": "code",
   "execution_count": 10,
   "id": "cbf269b8",
   "metadata": {},
   "outputs": [
    {
     "name": "stdout",
     "output_type": "stream",
     "text": [
      "(0, 'H')\n",
      "(1, 'e')\n",
      "(2, 'l')\n",
      "(3, 'l')\n",
      "(4, 'o')\n",
      "(5, ' ')\n",
      "(6, 'W')\n",
      "(7, 'o')\n",
      "(8, 'r')\n",
      "(9, 'l')\n",
      "(10, 'd')\n"
     ]
    }
   ],
   "source": [
    "for letter in enumerate('Hello World'):\n",
    "    print(letter)"
   ]
  },
  {
   "cell_type": "markdown",
   "id": "06054fb9",
   "metadata": {},
   "source": [
    "### Let's unpack tuple"
   ]
  },
  {
   "cell_type": "code",
   "execution_count": 15,
   "id": "409ccc5a",
   "metadata": {},
   "outputs": [
    {
     "name": "stdout",
     "output_type": "stream",
     "text": [
      "0\n",
      "H\n",
      "\n",
      "\n",
      "1\n",
      "e\n",
      "\n",
      "\n",
      "2\n",
      "l\n",
      "\n",
      "\n",
      "3\n",
      "l\n",
      "\n",
      "\n",
      "4\n",
      "o\n",
      "\n",
      "\n",
      "5\n",
      " \n",
      "\n",
      "\n",
      "6\n",
      "W\n",
      "\n",
      "\n",
      "7\n",
      "o\n",
      "\n",
      "\n",
      "8\n",
      "r\n",
      "\n",
      "\n",
      "9\n",
      "d\n",
      "\n",
      "\n",
      "<class 'int'>\n"
     ]
    },
    {
     "data": {
      "text/plain": [
       "str"
      ]
     },
     "execution_count": 15,
     "metadata": {},
     "output_type": "execute_result"
    }
   ],
   "source": [
    "for index, letter in enumerate(\"Hello Word\"):\n",
    "    print(index)\n",
    "    print(letter)\n",
    "    print('\\n')\n",
    "print(type(index))\n",
    "type(letter)"
   ]
  },
  {
   "cell_type": "code",
   "execution_count": 18,
   "id": "8ff187ad",
   "metadata": {},
   "outputs": [],
   "source": [
    "mylist1 = [1,2,3,4] #more vaye ni it takes only match\n",
    "mylist2 = ['a','b','c']"
   ]
  },
  {
   "cell_type": "code",
   "execution_count": 19,
   "id": "9aa662af",
   "metadata": {},
   "outputs": [
    {
     "name": "stdout",
     "output_type": "stream",
     "text": [
      "(1, 'a')\n",
      "(2, 'b')\n",
      "(3, 'c')\n"
     ]
    }
   ],
   "source": [
    "for item in zip(mylist1, mylist2):\n",
    "    print(item)"
   ]
  },
  {
   "cell_type": "code",
   "execution_count": 21,
   "id": "101b76eb",
   "metadata": {},
   "outputs": [
    {
     "data": {
      "text/plain": [
       "[(1, 'a'), (2, 'b'), (3, 'c')]"
      ]
     },
     "execution_count": 21,
     "metadata": {},
     "output_type": "execute_result"
    }
   ],
   "source": [
    "list(zip(mylist1,mylist2))"
   ]
  },
  {
   "cell_type": "code",
   "execution_count": 22,
   "id": "f4bfdf80",
   "metadata": {},
   "outputs": [
    {
     "data": {
      "text/plain": [
       "True"
      ]
     },
     "execution_count": 22,
     "metadata": {},
     "output_type": "execute_result"
    }
   ],
   "source": [
    "'x' in 'xman'"
   ]
  },
  {
   "cell_type": "code",
   "execution_count": 23,
   "id": "25e69f9a",
   "metadata": {},
   "outputs": [
    {
     "data": {
      "text/plain": [
       "False"
      ]
     },
     "execution_count": 23,
     "metadata": {},
     "output_type": "execute_result"
    }
   ],
   "source": [
    "'x' in range(1,5)"
   ]
  },
  {
   "cell_type": "code",
   "execution_count": 24,
   "id": "6ab96450",
   "metadata": {},
   "outputs": [
    {
     "data": {
      "text/plain": [
       "True"
      ]
     },
     "execution_count": 24,
     "metadata": {},
     "output_type": "execute_result"
    }
   ],
   "source": [
    "'x' in [1,2,3,'x']"
   ]
  },
  {
   "cell_type": "code",
   "execution_count": 27,
   "id": "17d01e4d",
   "metadata": {},
   "outputs": [
    {
     "data": {
      "text/plain": [
       "True"
      ]
     },
     "execution_count": 27,
     "metadata": {},
     "output_type": "execute_result"
    }
   ],
   "source": [
    "'mykey' in {'mykey':300}\n"
   ]
  },
  {
   "cell_type": "code",
   "execution_count": 28,
   "id": "aa3fc470",
   "metadata": {},
   "outputs": [
    {
     "data": {
      "text/plain": [
       "True"
      ]
     },
     "execution_count": 28,
     "metadata": {},
     "output_type": "execute_result"
    }
   ],
   "source": [
    "3 in [1,2,3]"
   ]
  },
  {
   "cell_type": "code",
   "execution_count": 29,
   "id": "7509d3d8",
   "metadata": {},
   "outputs": [
    {
     "data": {
      "text/plain": [
       "False"
      ]
     },
     "execution_count": 29,
     "metadata": {},
     "output_type": "execute_result"
    }
   ],
   "source": [
    "3 in {'key':3}##What??"
   ]
  },
  {
   "cell_type": "code",
   "execution_count": 32,
   "id": "cd9ed44f",
   "metadata": {},
   "outputs": [
    {
     "name": "stdout",
     "output_type": "stream",
     "text": [
      "False\n"
     ]
    }
   ],
   "source": [
    "d = {'mykey': 2}\n",
    "print2 in d.values()\n",
    "print(2 in d.keys())"
   ]
  },
  {
   "cell_type": "markdown",
   "id": "c3094f35",
   "metadata": {},
   "source": [
    "## List Comprehension"
   ]
  },
  {
   "cell_type": "code",
   "execution_count": 1,
   "id": "4a6210cd",
   "metadata": {},
   "outputs": [],
   "source": [
    "mystring = 'hello'\n"
   ]
  },
  {
   "cell_type": "code",
   "execution_count": 3,
   "id": "46da572e",
   "metadata": {},
   "outputs": [],
   "source": [
    "mylist =[]\n",
    "\n",
    "for letter in mystring:\n",
    "    mylist.append(letter)"
   ]
  },
  {
   "cell_type": "code",
   "execution_count": 4,
   "id": "ebaf25a1",
   "metadata": {},
   "outputs": [
    {
     "data": {
      "text/plain": [
       "['h', 'e', 'l', 'l', 'o']"
      ]
     },
     "execution_count": 4,
     "metadata": {},
     "output_type": "execute_result"
    }
   ],
   "source": [
    "mylist"
   ]
  },
  {
   "cell_type": "code",
   "execution_count": 5,
   "id": "54394e02",
   "metadata": {},
   "outputs": [
    {
     "data": {
      "text/plain": [
       "['h', 'e', 'l', 'l', 'o']"
      ]
     },
     "execution_count": 5,
     "metadata": {},
     "output_type": "execute_result"
    }
   ],
   "source": [
    "mylist = [letter for letter in mystring]\n",
    "mylist"
   ]
  },
  {
   "cell_type": "code",
   "execution_count": 7,
   "id": "330996c2",
   "metadata": {},
   "outputs": [
    {
     "data": {
      "text/plain": [
       "['w', 'o', 'r', 'd']"
      ]
     },
     "execution_count": 7,
     "metadata": {},
     "output_type": "execute_result"
    }
   ],
   "source": [
    "mylist1 = [x for x in 'word']\n",
    "mylist1"
   ]
  },
  {
   "cell_type": "code",
   "execution_count": 9,
   "id": "b1f90b3a",
   "metadata": {},
   "outputs": [
    {
     "data": {
      "text/plain": [
       "[0, 1, 2, 3, 4, 5, 6, 7, 8, 9, 10]"
      ]
     },
     "execution_count": 9,
     "metadata": {},
     "output_type": "execute_result"
    }
   ],
   "source": [
    "mylist2 = [num for num in range(0,11)]\n",
    "mylist2"
   ]
  },
  {
   "cell_type": "code",
   "execution_count": 11,
   "id": "ceab7577",
   "metadata": {},
   "outputs": [
    {
     "data": {
      "text/plain": [
       "[0, 1, 4, 9, 16, 25, 36, 49, 64, 81, 100]"
      ]
     },
     "execution_count": 11,
     "metadata": {},
     "output_type": "execute_result"
    }
   ],
   "source": [
    "mylist3 = [sqnum**2 for sqnum in range(0,11)]\n",
    "mylist3"
   ]
  },
  {
   "cell_type": "code",
   "execution_count": 15,
   "id": "4b01f035",
   "metadata": {},
   "outputs": [
    {
     "data": {
      "text/plain": [
       "[0, 2, 4, 6, 8, 10]"
      ]
     },
     "execution_count": 15,
     "metadata": {},
     "output_type": "execute_result"
    }
   ],
   "source": [
    "mylist4 = [x for x in range(0,11) if x % 2 == 0]#condn\n",
    "mylist4"
   ]
  },
  {
   "cell_type": "code",
   "execution_count": 17,
   "id": "b9327371",
   "metadata": {},
   "outputs": [],
   "source": [
    "celcius = [0, 10, 20, 34.5]\n",
    "fahrenheit = [((9/5)*temp + 32) for temp in celcius]"
   ]
  },
  {
   "cell_type": "code",
   "execution_count": 18,
   "id": "30ec7d36",
   "metadata": {},
   "outputs": [
    {
     "data": {
      "text/plain": [
       "[32.0, 50.0, 68.0, 94.1]"
      ]
     },
     "execution_count": 18,
     "metadata": {},
     "output_type": "execute_result"
    }
   ],
   "source": [
    "fahrenheit"
   ]
  },
  {
   "cell_type": "code",
   "execution_count": 20,
   "id": "754b33a3",
   "metadata": {},
   "outputs": [
    {
     "data": {
      "text/plain": [
       "['Even',\n",
       " 'ODD',\n",
       " 'Even',\n",
       " 'ODD',\n",
       " 'Even',\n",
       " 'ODD',\n",
       " 'Even',\n",
       " 'ODD',\n",
       " 'Even',\n",
       " 'ODD',\n",
       " 'Even']"
      ]
     },
     "execution_count": 20,
     "metadata": {},
     "output_type": "execute_result"
    }
   ],
   "source": [
    "results = ['Even' if x%2==0 else 'ODD' for x in range(0,11)]\n",
    "results"
   ]
  },
  {
   "cell_type": "code",
   "execution_count": 21,
   "id": "6219c60f",
   "metadata": {},
   "outputs": [
    {
     "data": {
      "text/plain": [
       "[200, 400, 600, 400, 800, 1200, 600, 1200, 1800]"
      ]
     },
     "execution_count": 21,
     "metadata": {},
     "output_type": "execute_result"
    }
   ],
   "source": [
    "mylist5 = []\n",
    "for x in [2,4,6]:\n",
    "    for y in [100,200,300]:\n",
    "        mylist5.append(x*y)\n",
    "mylist5"
   ]
  },
  {
   "cell_type": "code",
   "execution_count": 22,
   "id": "75c8e3b7",
   "metadata": {},
   "outputs": [
    {
     "data": {
      "text/plain": [
       "[2, 4, 4, 8]"
      ]
     },
     "execution_count": 22,
     "metadata": {},
     "output_type": "execute_result"
    }
   ],
   "source": [
    "mylist6 = [x*y for x in [2,4] for y in [1,2]]\n",
    "mylist6"
   ]
  },
  {
   "cell_type": "code",
   "execution_count": null,
   "id": "7e25012f",
   "metadata": {},
   "outputs": [],
   "source": []
  }
 ],
 "metadata": {
  "kernelspec": {
   "display_name": "Python 3",
   "language": "python",
   "name": "python3"
  },
  "language_info": {
   "codemirror_mode": {
    "name": "ipython",
    "version": 3
   },
   "file_extension": ".py",
   "mimetype": "text/x-python",
   "name": "python",
   "nbconvert_exporter": "python",
   "pygments_lexer": "ipython3",
   "version": "3.6.9"
  }
 },
 "nbformat": 4,
 "nbformat_minor": 5
}
