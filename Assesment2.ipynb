{
 "cells": [
  {
   "cell_type": "markdown",
   "id": "e36bac27",
   "metadata": {},
   "source": [
    "### The code seems redundant, it's done intentionally for practice purpose"
   ]
  },
  {
   "cell_type": "code",
   "execution_count": 1,
   "id": "904fe037",
   "metadata": {},
   "outputs": [
    {
     "data": {
      "text/plain": [
       "list"
      ]
     },
     "execution_count": 1,
     "metadata": {},
     "output_type": "execute_result"
    }
   ],
   "source": [
    "#Print only words that starts with 's' in the following sentence\n",
    "st = 'Print only the words that starts with s in this Sentence'\n",
    "splitted =st.split()\n",
    "splitted\n",
    "type(splitted)"
   ]
  },
  {
   "cell_type": "code",
   "execution_count": 2,
   "id": "dedee939",
   "metadata": {},
   "outputs": [
    {
     "name": "stdout",
     "output_type": "stream",
     "text": [
      "starts\n",
      "s\n"
     ]
    }
   ],
   "source": [
    "for letters in st.split():\n",
    "    if letters.startswith('s'):\n",
    "        print(letters)"
   ]
  },
  {
   "cell_type": "code",
   "execution_count": 4,
   "id": "c6ff305a",
   "metadata": {},
   "outputs": [
    {
     "name": "stdout",
     "output_type": "stream",
     "text": [
      "starts\n",
      "s\n",
      "Sentence\n"
     ]
    }
   ],
   "source": [
    "#Simple Version\n",
    "for words in st.split():\n",
    "    if words[0].lower() == 's':\n",
    "        print(words)"
   ]
  },
  {
   "cell_type": "code",
   "execution_count": 5,
   "id": "4758a37e",
   "metadata": {},
   "outputs": [
    {
     "data": {
      "text/plain": [
       "[0, 1, 2, 3, 4, 5, 6, 7, 8, 9]"
      ]
     },
     "execution_count": 5,
     "metadata": {},
     "output_type": "execute_result"
    }
   ],
   "source": [
    "collect = []\n",
    "for letter in range(0,10):\n",
    "    collect.append(letter)\n",
    "collect\n"
   ]
  },
  {
   "cell_type": "code",
   "execution_count": 6,
   "id": "39390f48",
   "metadata": {
    "scrolled": true
   },
   "outputs": [
    {
     "name": "stdout",
     "output_type": "stream",
     "text": [
      "0\n",
      "2\n",
      "4\n",
      "6\n",
      "8\n",
      "10\n",
      "[0, 2, 4, 6, 8, 10]\n",
      "The sum of new numbers is  30\n"
     ]
    }
   ],
   "source": [
    "#range to print all even numbers from 0 to 10\n",
    "new_nums = []\n",
    "for numbers in range(0,11):\n",
    "    if numbers % 2 == 0:\n",
    "        print(numbers)\n",
    "        new_nums.append(numbers) #stored all even numbers creating a list\n",
    "print(new_nums)\n",
    "sum = 0\n",
    "for numbers in new_nums: #playing with list\n",
    "    sum = sum + numbers\n",
    "print(\"The sum of new numbers is \", sum)"
   ]
  },
  {
   "cell_type": "markdown",
   "id": "d8087a5c",
   "metadata": {},
   "source": [
    "### List Comprhension to create a list of all numbers between 1 to 50 divisible by 3"
   ]
  },
  {
   "cell_type": "code",
   "execution_count": 53,
   "id": "35922d57",
   "metadata": {},
   "outputs": [
    {
     "data": {
      "text/plain": [
       "[3, 6, 9, 12, 15, 18, 21, 24, 27, 30, 33, 36, 39, 42, 45, 48]"
      ]
     },
     "execution_count": 53,
     "metadata": {},
     "output_type": "execute_result"
    }
   ],
   "source": [
    "reqd_list = [numbers for numbers in range(1,51) if numbers % 3 == 0 ]\n",
    "reqd_list"
   ]
  },
  {
   "cell_type": "code",
   "execution_count": 7,
   "id": "88bca831",
   "metadata": {},
   "outputs": [
    {
     "name": "stdout",
     "output_type": "stream",
     "text": [
      "word is even\n",
      "in is even\n",
      "this is even\n",
      "sentence is even\n",
      "that is even\n",
      "an is even\n",
      "even is even\n",
      "of is even\n"
     ]
    }
   ],
   "source": [
    "#If length of word is even, print even\n",
    "st = 'Print every word in this sentence that has an even numbers of letters'\n",
    "individual_word= st.split()\n",
    "for word in individual_word:\n",
    "    if len(word) % 2 == 0:\n",
    "        print(word ,'is even')"
   ]
  },
  {
   "cell_type": "code",
   "execution_count": 8,
   "id": "0be40f39",
   "metadata": {},
   "outputs": [
    {
     "name": "stdout",
     "output_type": "stream",
     "text": [
      "Fizz number is  3\n",
      "Buzz number is  5\n",
      "Fizz number is  6\n",
      "Fizz number is  9\n",
      "Buzz number is  10\n",
      "Fizz number is  12\n",
      "FizzBuzz number is  15\n",
      "Fizz number is  18\n",
      "Buzz number is  20\n",
      "Fizz number is  21\n",
      "Fizz number is  24\n",
      "Buzz number is  25\n",
      "Fizz number is  27\n",
      "FizzBuzz number is  30\n",
      "Fizz number is  33\n",
      "Buzz number is  35\n",
      "Fizz number is  36\n",
      "Fizz number is  39\n",
      "Buzz number is  40\n",
      "Fizz number is  42\n",
      "FizzBuzz number is  45\n",
      "Fizz number is  48\n",
      "Buzz number is  50\n",
      "Fizz number is  51\n",
      "Fizz number is  54\n",
      "Buzz number is  55\n",
      "Fizz number is  57\n",
      "FizzBuzz number is  60\n",
      "Fizz number is  63\n",
      "Buzz number is  65\n",
      "Fizz number is  66\n",
      "Fizz number is  69\n",
      "Buzz number is  70\n",
      "Fizz number is  72\n",
      "FizzBuzz number is  75\n",
      "Fizz number is  78\n",
      "Buzz number is  80\n",
      "Fizz number is  81\n",
      "Fizz number is  84\n",
      "Buzz number is  85\n",
      "Fizz number is  87\n",
      "FizzBuzz number is  90\n",
      "Fizz number is  93\n",
      "Buzz number is  95\n",
      "Fizz number is  96\n",
      "Fizz number is  99\n",
      "Buzz number is  100\n"
     ]
    }
   ],
   "source": [
    "## Form 1 to 100,print 'Fizz' for multiple of 3, 'Buzz'\n",
    "#For multiple of 5 and 'FizzBuzz' for multiple of both\n",
    "for numbers in range(1,101):\n",
    "    if numbers % 3 == 0 and numbers % 5 == 0:\n",
    "        print('FizzBuzz', 'number is ', numbers)\n",
    "    elif numbers % 3 == 0:\n",
    "        print('Fizz', 'number is ',numbers)\n",
    "    elif numbers % 5 == 0:\n",
    "        print('Buzz', 'number is ',numbers)\n",
    "    else:\n",
    "        pass"
   ]
  },
  {
   "cell_type": "code",
   "execution_count": 9,
   "id": "67258bd7",
   "metadata": {},
   "outputs": [
    {
     "data": {
      "text/plain": [
       "['C', 'a', 'l', 'o', 't', 'f', 'l', 'o', 'e', 'w', 'i', 't', 's']"
      ]
     },
     "execution_count": 9,
     "metadata": {},
     "output_type": "execute_result"
    }
   ],
   "source": [
    "##List comprehension to create a list of first letters\n",
    "#of every word in string below\n",
    "st = 'Create a list of the first letters of every word in this string'\n",
    "first_word = [letters[0] for letters in st.split()]\n",
    "first_word"
   ]
  },
  {
   "cell_type": "code",
   "execution_count": 11,
   "id": "09dce212",
   "metadata": {},
   "outputs": [
    {
     "data": {
      "text/plain": [
       "['Aavas', 'Bibek', 'Mukesh']"
      ]
     },
     "execution_count": 11,
     "metadata": {},
     "output_type": "execute_result"
    }
   ],
   "source": [
    "#out of contest\n",
    "name_list = ['Bibek','Mukesh','Aavas']\n",
    "sorted(name_list)"
   ]
  },
  {
   "cell_type": "code",
   "execution_count": 12,
   "id": "938baea0",
   "metadata": {},
   "outputs": [
    {
     "name": "stdout",
     "output_type": "stream",
     "text": [
      "[1, 2, 3, 45]\n"
     ]
    }
   ],
   "source": [
    "num_list =[]\n",
    "num_list = [1,2,3,45]\n",
    "print(num_list)"
   ]
  },
  {
   "cell_type": "markdown",
   "id": "c6898c1a",
   "metadata": {},
   "source": [
    "### if else condition using nested list\n"
   ]
  },
  {
   "cell_type": "code",
   "execution_count": 13,
   "id": "481e7804",
   "metadata": {},
   "outputs": [],
   "source": [
    "num_list = [num if num % 2 == 0 else 'odd'for num in range(0,11)]"
   ]
  },
  {
   "cell_type": "code",
   "execution_count": 14,
   "id": "a7b2b8fa",
   "metadata": {},
   "outputs": [
    {
     "name": "stdout",
     "output_type": "stream",
     "text": [
      "[0, 'odd', 2, 'odd', 4, 'odd', 6, 'odd', 8, 'odd', 10]\n"
     ]
    }
   ],
   "source": [
    "print(num_list)"
   ]
  },
  {
   "cell_type": "code",
   "execution_count": null,
   "id": "43e502ac",
   "metadata": {},
   "outputs": [],
   "source": []
  }
 ],
 "metadata": {
  "kernelspec": {
   "display_name": "Python 3",
   "language": "python",
   "name": "python3"
  },
  "language_info": {
   "codemirror_mode": {
    "name": "ipython",
    "version": 3
   },
   "file_extension": ".py",
   "mimetype": "text/x-python",
   "name": "python",
   "nbconvert_exporter": "python",
   "pygments_lexer": "ipython3",
   "version": "3.6.9"
  }
 },
 "nbformat": 4,
 "nbformat_minor": 5
}
