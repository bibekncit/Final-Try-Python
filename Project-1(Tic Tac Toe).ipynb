{
 "cells": [
  {
   "cell_type": "markdown",
   "id": "6d0b706d",
   "metadata": {},
   "source": [
    "# Tic Tac Toe"
   ]
  },
  {
   "cell_type": "markdown",
   "id": "80e1b7f3",
   "metadata": {},
   "source": [
    "## Step 1 "
   ]
  },
  {
   "cell_type": "markdown",
   "id": "33203eff",
   "metadata": {},
   "source": [
    "\n",
    "'''\n",
    "Writing a function that can print out board.\n",
    "Setting board as list, where 1-9 corresponds with number on a \n",
    "number pad, so we get 3X3 board representation\n",
    "'''\n",
    "\n"
   ]
  },
  {
   "cell_type": "code",
   "execution_count": 44,
   "id": "c898eb8c",
   "metadata": {},
   "outputs": [],
   "source": [
    "from IPython.display import clear_output # Works with Jupyter Notebook\n",
    "def display_board(board):\n",
    "        clear_output() # for clearing old board\n",
    "        print('    |    | ')\n",
    "        print('  ' + board[7] + ' | ' + board[8] + '  | ' + board[9])\n",
    "        print('    |    | ')\n",
    "        print('---------------')\n",
    "        print('    |    |')\n",
    "        print('  ' + board[4] + ' |  ' + board[5] + ' | ' + board[6])\n",
    "        print('    |    |')\n",
    "        print('---------------')\n",
    "        print('  ' + board[1] + ' | ' + board[2] + '  | ' + board[3])\n",
    "        print('    |    |')"
   ]
  },
  {
   "cell_type": "markdown",
   "id": "76e1e4c1",
   "metadata": {},
   "source": [
    "## Test Step 1 : Showing empty board"
   ]
  },
  {
   "cell_type": "code",
   "execution_count": 45,
   "id": "0ea41611",
   "metadata": {},
   "outputs": [
    {
     "name": "stdout",
     "output_type": "stream",
     "text": [
      "    |    | \n",
      "  X | O  | X\n",
      "    |    | \n",
      "---------------\n",
      "    |    |\n",
      "  O |  X | O\n",
      "    |    |\n",
      "---------------\n",
      "  X | O  | X\n",
      "    |    |\n"
     ]
    }
   ],
   "source": [
    "#test_board = [''] * 10 #displays empty board --> note 0 element\n",
    "test_board = ['#','X','O','X','O','X','O','X','O','X']\n",
    "display_board(test_board)\n",
    "display_board(test_board)\n",
    "#calling display_board multiple times print borad again and again so we make call to clear \n"
   ]
  },
  {
   "cell_type": "markdown",
   "id": "54c20e8a",
   "metadata": {},
   "source": [
    "## Step 2 : Writing Function that can take in player input and assign their marked 'X' or 'O'"
   ]
  },
  {
   "cell_type": "code",
   "execution_count": 53,
   "id": "30747588",
   "metadata": {},
   "outputs": [],
   "source": [
    "def player_input():\n",
    "    '''\n",
    "    Output in tuple(Player1 marker, Player2 marker)\n",
    "    '''\n",
    "    marker = ''\n",
    "    while not (marker == 'X' or marker == 'O'):\n",
    "        marker = input('Player 1: Choose X or O ').upper()\n",
    "    if marker == 'X':\n",
    "        return ('X', 'O')\n",
    "    else:\n",
    "        return ('O', 'X')\n",
    "         \n",
    "    "
   ]
  },
  {
   "cell_type": "markdown",
   "id": "b15ac743",
   "metadata": {},
   "source": [
    "## Test Step 2 : running function to make sure it returns desired output"
   ]
  },
  {
   "cell_type": "code",
   "execution_count": 54,
   "id": "52e8d668",
   "metadata": {},
   "outputs": [
    {
     "name": "stdout",
     "output_type": "stream",
     "text": [
      "Player 1: Choose X or O X\n"
     ]
    }
   ],
   "source": [
    "player1_marker , player2_marker = player_input() # tuple unpacking"
   ]
  },
  {
   "cell_type": "code",
   "execution_count": 56,
   "id": "91692a50",
   "metadata": {},
   "outputs": [
    {
     "data": {
      "text/plain": [
       "'X'"
      ]
     },
     "execution_count": 56,
     "metadata": {},
     "output_type": "execute_result"
    }
   ],
   "source": [
    "player1_marker"
   ]
  },
  {
   "cell_type": "code",
   "execution_count": 57,
   "id": "8d49ad6a",
   "metadata": {},
   "outputs": [
    {
     "data": {
      "text/plain": [
       "'O'"
      ]
     },
     "execution_count": 57,
     "metadata": {},
     "output_type": "execute_result"
    }
   ],
   "source": [
    "player2_marker"
   ]
  },
  {
   "cell_type": "markdown",
   "id": "95f87ccd",
   "metadata": {},
   "source": [
    "## Step 3 : Writing function that takes in board list object ,marker('X','O), and a desired position(number 1-9) and assigns it to the board"
   ]
  },
  {
   "cell_type": "code",
   "execution_count": null,
   "id": "6ed291a9",
   "metadata": {},
   "outputs": [],
   "source": []
  }
 ],
 "metadata": {
  "kernelspec": {
   "display_name": "Python 3",
   "language": "python",
   "name": "python3"
  },
  "language_info": {
   "codemirror_mode": {
    "name": "ipython",
    "version": 3
   },
   "file_extension": ".py",
   "mimetype": "text/x-python",
   "name": "python",
   "nbconvert_exporter": "python",
   "pygments_lexer": "ipython3",
   "version": "3.6.9"
  }
 },
 "nbformat": 4,
 "nbformat_minor": 5
}
