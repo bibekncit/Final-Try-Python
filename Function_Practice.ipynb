{
 "cells": [
  {
   "cell_type": "code",
   "execution_count": 2,
   "id": "b7aff99a",
   "metadata": {},
   "outputs": [],
   "source": [
    "def numout(a,b):\n",
    "    if a % 2 == 0 and b % 2 == 0:\n",
    "        return(min(a,b))\n",
    "    else :\n",
    "        return(max(a,b))"
   ]
  },
  {
   "cell_type": "code",
   "execution_count": 3,
   "id": "92b6ff9d",
   "metadata": {},
   "outputs": [
    {
     "data": {
      "text/plain": [
       "3"
      ]
     },
     "execution_count": 3,
     "metadata": {},
     "output_type": "execute_result"
    }
   ],
   "source": [
    "numout(2,3)"
   ]
  },
  {
   "cell_type": "code",
   "execution_count": 5,
   "id": "c32baeb9",
   "metadata": {},
   "outputs": [
    {
     "data": {
      "text/plain": [
       "6"
      ]
     },
     "execution_count": 5,
     "metadata": {},
     "output_type": "execute_result"
    }
   ],
   "source": [
    "numout(6,6666)"
   ]
  },
  {
   "cell_type": "code",
   "execution_count": 6,
   "id": "70d457f9",
   "metadata": {},
   "outputs": [],
   "source": [
    "def animal_crackers(text):\n",
    "    words = text.split()\n",
    "    first = words[0][0]\n",
    "    second = words[1][0]\n",
    "    if first == second:\n",
    "        return True\n",
    "    else:\n",
    "        return False\n",
    "    "
   ]
  },
  {
   "cell_type": "code",
   "execution_count": 12,
   "id": "fe5ab872",
   "metadata": {},
   "outputs": [
    {
     "data": {
      "text/plain": [
       "True"
      ]
     },
     "execution_count": 12,
     "metadata": {},
     "output_type": "execute_result"
    }
   ],
   "source": [
    "animal_crackers('Bibek boss'.lower())"
   ]
  },
  {
   "cell_type": "code",
   "execution_count": 13,
   "id": "42b677e7",
   "metadata": {},
   "outputs": [
    {
     "data": {
      "text/plain": [
       "False"
      ]
     },
     "execution_count": 13,
     "metadata": {},
     "output_type": "execute_result"
    }
   ],
   "source": [
    "animal_crackers('Hi nice Bro'.lower())"
   ]
  },
  {
   "cell_type": "code",
   "execution_count": 18,
   "id": "b12a263b",
   "metadata": {},
   "outputs": [],
   "source": [
    "def animal_cracker(text):\n",
    "    wordlist = text.lower().split()\n",
    "    print(wordlist)\n",
    "    \n",
    "    return wordlist[0][0] == wordlist[1][0]"
   ]
  },
  {
   "cell_type": "code",
   "execution_count": 19,
   "id": "2ad10b62",
   "metadata": {},
   "outputs": [
    {
     "name": "stdout",
     "output_type": "stream",
     "text": [
      "['baba', 'black', 'sheep']\n"
     ]
    },
    {
     "data": {
      "text/plain": [
       "True"
      ]
     },
     "execution_count": 19,
     "metadata": {},
     "output_type": "execute_result"
    }
   ],
   "source": [
    "animal_cracker('Baba black sheep')"
   ]
  },
  {
   "cell_type": "code",
   "execution_count": 49,
   "id": "06357271",
   "metadata": {},
   "outputs": [],
   "source": [
    "def if20return(a,b):\n",
    "    return (a+b) == 20 or a == 20 or b == 20"
   ]
  },
  {
   "cell_type": "code",
   "execution_count": 50,
   "id": "26b38128",
   "metadata": {},
   "outputs": [
    {
     "data": {
      "text/plain": [
       "True"
      ]
     },
     "execution_count": 50,
     "metadata": {},
     "output_type": "execute_result"
    }
   ],
   "source": [
    "if20return(20,3)"
   ]
  },
  {
   "cell_type": "code",
   "execution_count": 53,
   "id": "f7a42fa9",
   "metadata": {},
   "outputs": [
    {
     "data": {
      "text/plain": [
       "110"
      ]
     },
     "execution_count": 53,
     "metadata": {},
     "output_type": "execute_result"
    }
   ],
   "source": [
    "sum([1,2,3,5,99]) #parameter must be iterable\n"
   ]
  },
  {
   "cell_type": "code",
   "execution_count": 57,
   "id": "18d48961",
   "metadata": {},
   "outputs": [
    {
     "data": {
      "text/plain": [
       "20"
      ]
     },
     "execution_count": 57,
     "metadata": {},
     "output_type": "execute_result"
    }
   ],
   "source": [
    "sum((2,3,4,5,6))"
   ]
  },
  {
   "cell_type": "code",
   "execution_count": 70,
   "id": "f00fd00d",
   "metadata": {},
   "outputs": [],
   "source": [
    "  def capt1_4(name):\n",
    "        first = name[0].upper()\n",
    "        fourth = name[3].upper()\n",
    "        name = first + name[1:3] + fourth + name[4:]\n",
    "        return name"
   ]
  },
  {
   "cell_type": "code",
   "execution_count": 71,
   "id": "422fdf24",
   "metadata": {},
   "outputs": [
    {
     "data": {
      "text/plain": [
       "'HarRyhehe'"
      ]
     },
     "execution_count": 71,
     "metadata": {},
     "output_type": "execute_result"
    }
   ],
   "source": [
    "capt1_4('harryhehe')"
   ]
  },
  {
   "cell_type": "code",
   "execution_count": 69,
   "id": "33cf26ce",
   "metadata": {},
   "outputs": [
    {
     "data": {
      "text/plain": [
       "[1, 2]"
      ]
     },
     "execution_count": 69,
     "metadata": {},
     "output_type": "execute_result"
    }
   ],
   "source": [
    "name = [1,2,3,4,5]\n",
    "new = name[0:2]\n",
    "new"
   ]
  },
  {
   "cell_type": "code",
   "execution_count": null,
   "id": "023fab71",
   "metadata": {},
   "outputs": [],
   "source": []
  }
 ],
 "metadata": {
  "kernelspec": {
   "display_name": "Python 3",
   "language": "python",
   "name": "python3"
  },
  "language_info": {
   "codemirror_mode": {
    "name": "ipython",
    "version": 3
   },
   "file_extension": ".py",
   "mimetype": "text/x-python",
   "name": "python",
   "nbconvert_exporter": "python",
   "pygments_lexer": "ipython3",
   "version": "3.6.9"
  }
 },
 "nbformat": 4,
 "nbformat_minor": 5
}
