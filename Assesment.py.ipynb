{
 "cells": [
  {
   "cell_type": "code",
   "execution_count": 8,
   "id": "a0a9dd12",
   "metadata": {},
   "outputs": [
    {
     "data": {
      "text/plain": [
       "5.0"
      ]
     },
     "execution_count": 8,
     "metadata": {},
     "output_type": "execute_result"
    }
   ],
   "source": [
    "import math\n",
    "square_root = math.sqrt(25)\n",
    "square_root"
   ]
  },
  {
   "cell_type": "code",
   "execution_count": 9,
   "id": "04573bd1",
   "metadata": {},
   "outputs": [
    {
     "name": "stdout",
     "output_type": "stream",
     "text": [
      "What do you find\n",
      " 1 for square root \n",
      " 2 for square number2\n",
      "Enter the number8000\n",
      "The square number of  8000 is  64000000\n"
     ]
    }
   ],
   "source": [
    "user_input = input(\"What do you find\\n 1 for square root \\n 2 for square number\")\n",
    "if user_input == '1':\n",
    "    number = int(input('Enter the number '))\n",
    "    if number < 0:\n",
    "        print('Sorry, please enter positive number')\n",
    "    else:   \n",
    "        print('The square root of ', number, ' is ', math.sqrt(number))\n",
    " \n",
    "elif user_input == '2':\n",
    "    number = int(input(\"Enter the number\"))\n",
    "    #if number < 0:\n",
    "       # print('Sorry, please enter positive number')\n",
    "    #else:\n",
    "    print('The square number of ', number, 'is ', number*number)\n",
    "else:\n",
    "    print('Bhag Mula')"
   ]
  },
  {
   "cell_type": "code",
   "execution_count": 12,
   "id": "5d02f154",
   "metadata": {},
   "outputs": [
    {
     "name": "stdout",
     "output_type": "stream",
     "text": [
      "e\n"
     ]
    }
   ],
   "source": [
    "s = 'hello'\n",
    "print( s[1])"
   ]
  },
  {
   "cell_type": "code",
   "execution_count": 13,
   "id": "085fa822",
   "metadata": {},
   "outputs": [
    {
     "data": {
      "text/plain": [
       "'olleh'"
      ]
     },
     "execution_count": 13,
     "metadata": {},
     "output_type": "execute_result"
    }
   ],
   "source": [
    "s[::-1]"
   ]
  },
  {
   "cell_type": "code",
   "execution_count": 14,
   "id": "68cef7aa",
   "metadata": {},
   "outputs": [
    {
     "data": {
      "text/plain": [
       "'o'"
      ]
     },
     "execution_count": 14,
     "metadata": {},
     "output_type": "execute_result"
    }
   ],
   "source": [
    "s[-1]"
   ]
  },
  {
   "cell_type": "markdown",
   "id": "ff8d3302",
   "metadata": {},
   "source": [
    "## List"
   ]
  },
  {
   "cell_type": "code",
   "execution_count": 23,
   "id": "7a19f58b",
   "metadata": {},
   "outputs": [
    {
     "data": {
      "text/plain": [
       "[0, 0, 0]"
      ]
     },
     "execution_count": 23,
     "metadata": {},
     "output_type": "execute_result"
    }
   ],
   "source": [
    "a = []\n",
    "for zero in range(1,4):\n",
    "    a.append(0)\n",
    "a"
   ]
  },
  {
   "cell_type": "code",
   "execution_count": 21,
   "id": "1a9963d6",
   "metadata": {},
   "outputs": [
    {
     "data": {
      "text/plain": [
       "[0, 0, 0, 0, 0, 0, 0, 0, 0]"
      ]
     },
     "execution_count": 21,
     "metadata": {},
     "output_type": "execute_result"
    }
   ],
   "source": [
    "a*3"
   ]
  },
  {
   "cell_type": "code",
   "execution_count": 51,
   "id": "553ae5de",
   "metadata": {},
   "outputs": [
    {
     "data": {
      "text/plain": [
       "[1, 2, [3, 4, 'hello']]"
      ]
     },
     "execution_count": 51,
     "metadata": {},
     "output_type": "execute_result"
    }
   ],
   "source": [
    "list1 = [1,2,[3,4,'hello']]\n",
    "listo = list1[:]\n",
    "listo"
   ]
  },
  {
   "cell_type": "code",
   "execution_count": 52,
   "id": "86b0ae13",
   "metadata": {},
   "outputs": [],
   "source": [
    "list1[2]= 'GoodBye'"
   ]
  },
  {
   "cell_type": "code",
   "execution_count": 53,
   "id": "11bc2c36",
   "metadata": {},
   "outputs": [
    {
     "data": {
      "text/plain": [
       "[1, 2, 'GoodBye']"
      ]
     },
     "execution_count": 53,
     "metadata": {},
     "output_type": "execute_result"
    }
   ],
   "source": [
    "list1"
   ]
  },
  {
   "cell_type": "code",
   "execution_count": 54,
   "id": "3aef2ea2",
   "metadata": {},
   "outputs": [
    {
     "data": {
      "text/plain": [
       "[1, 2, [3, 4, 'hello']]"
      ]
     },
     "execution_count": 54,
     "metadata": {},
     "output_type": "execute_result"
    }
   ],
   "source": [
    "listo"
   ]
  },
  {
   "cell_type": "code",
   "execution_count": 76,
   "id": "e1b0ead2",
   "metadata": {},
   "outputs": [
    {
     "name": "stdout",
     "output_type": "stream",
     "text": [
      "None\n"
     ]
    }
   ],
   "source": [
    "list4 = [5,3,4,6]\n",
    "sorted_list=list4.sort() ##Doesnot return\n",
    "print(sorted_list)\n"
   ]
  },
  {
   "cell_type": "code",
   "execution_count": 77,
   "id": "111fe3c8",
   "metadata": {},
   "outputs": [
    {
     "data": {
      "text/plain": [
       "[3, 4, 5, 6]"
      ]
     },
     "execution_count": 77,
     "metadata": {},
     "output_type": "execute_result"
    }
   ],
   "source": [
    "sortlist=sorted(list4)   ##Returns\n",
    "sortlist\n"
   ]
  },
  {
   "cell_type": "markdown",
   "id": "be7c636d",
   "metadata": {},
   "source": [
    "## Dictionaries"
   ]
  },
  {
   "cell_type": "code",
   "execution_count": 79,
   "id": "b79a257e",
   "metadata": {},
   "outputs": [
    {
     "data": {
      "text/plain": [
       "'hello'"
      ]
     },
     "execution_count": 79,
     "metadata": {},
     "output_type": "execute_result"
    }
   ],
   "source": [
    "d = {'simple_key': 'hello'}\n",
    "#Grab Hello\n",
    "grabbed =d['simple_key']\n",
    "grabbed\n",
    "    "
   ]
  },
  {
   "cell_type": "code",
   "execution_count": 81,
   "id": "dce46662",
   "metadata": {},
   "outputs": [
    {
     "data": {
      "text/plain": [
       "'hello'"
      ]
     },
     "execution_count": 81,
     "metadata": {},
     "output_type": "execute_result"
    }
   ],
   "source": [
    "d = {'k1':{'k2':'hello'}}\n",
    "grabbed = d['k1']['k2']\n",
    "grabbed"
   ]
  },
  {
   "cell_type": "code",
   "execution_count": 2,
   "id": "68e48090",
   "metadata": {},
   "outputs": [],
   "source": [
    " #Geeting a little tricker\n",
    "    d = {'k1': [{'nest_key':['this is deep', ['hello']]}]}\n"
   ]
  },
  {
   "cell_type": "code",
   "execution_count": 3,
   "id": "46836f2f",
   "metadata": {},
   "outputs": [
    {
     "data": {
      "text/plain": [
       "'hello'"
      ]
     },
     "execution_count": 3,
     "metadata": {},
     "output_type": "execute_result"
    }
   ],
   "source": [
    "d.get('k1')[0].get('nest_key')[1][0] #Mukesh Done"
   ]
  },
  {
   "cell_type": "code",
   "execution_count": 4,
   "id": "5b68e3fd",
   "metadata": {},
   "outputs": [
    {
     "data": {
      "text/plain": [
       "'hello'"
      ]
     },
     "execution_count": 4,
     "metadata": {},
     "output_type": "execute_result"
    }
   ],
   "source": [
    "d['k1'][0]['nest_key'][1][0]"
   ]
  },
  {
   "cell_type": "code",
   "execution_count": 1,
   "id": "dfe7d189",
   "metadata": {},
   "outputs": [],
   "source": [
    "d = {'k1':[1,2,{'k2':['this is tricky',{'tough':[1,2,['hello']]}]}]}\n",
    "#Grab Hello"
   ]
  },
  {
   "cell_type": "code",
   "execution_count": 9,
   "id": "a07a5823",
   "metadata": {},
   "outputs": [
    {
     "data": {
      "text/plain": [
       "'hello'"
      ]
     },
     "execution_count": 9,
     "metadata": {},
     "output_type": "execute_result"
    }
   ],
   "source": [
    "#every time enter gardai garda sajilo huncha hai\n",
    "#like d['k1']-> enter and so on\n",
    "d['k1'][2]['k2'][1]['tough'][2][0] \n",
    "#yes, you did it on first try,,,, Hurray!!!"
   ]
  },
  {
   "cell_type": "markdown",
   "id": "1347c8c8",
   "metadata": {},
   "source": [
    "## Can you sort a dictionaray? Why not?\n",
    "#Because Dictionary are mapping"
   ]
  },
  {
   "cell_type": "markdown",
   "id": "f549139f",
   "metadata": {},
   "source": [
    "## Tuples"
   ]
  },
  {
   "cell_type": "code",
   "execution_count": 12,
   "id": "9d5c67a9",
   "metadata": {},
   "outputs": [],
   "source": [
    "t = (1,2,3,4) #creation of tuple"
   ]
  },
  {
   "cell_type": "code",
   "execution_count": 13,
   "id": "2a3c41ab",
   "metadata": {},
   "outputs": [
    {
     "data": {
      "text/plain": [
       "(1, 2, 3, 4)"
      ]
     },
     "execution_count": 13,
     "metadata": {},
     "output_type": "execute_result"
    }
   ],
   "source": [
    "t"
   ]
  },
  {
   "cell_type": "markdown",
   "id": "129f4ecc",
   "metadata": {},
   "source": [
    "## Set --> Don't allow for duplicate items"
   ]
  },
  {
   "cell_type": "code",
   "execution_count": 17,
   "id": "daf4ae7e",
   "metadata": {},
   "outputs": [],
   "source": [
    "list10 =[1,1,1,1,2,23,4,5,65,53,34,2,3,4]"
   ]
  },
  {
   "cell_type": "code",
   "execution_count": 20,
   "id": "f32cd3f0",
   "metadata": {},
   "outputs": [
    {
     "data": {
      "text/plain": [
       "{1, 2, 3, 4, 5, 23, 34, 53, 65}"
      ]
     },
     "execution_count": 20,
     "metadata": {},
     "output_type": "execute_result"
    }
   ],
   "source": [
    "set10= set(list10)\n",
    "set10"
   ]
  },
  {
   "cell_type": "markdown",
   "id": "6ae89341",
   "metadata": {},
   "source": [
    "## Boolean"
   ]
  },
  {
   "cell_type": "code",
   "execution_count": 21,
   "id": "db23df44",
   "metadata": {},
   "outputs": [
    {
     "data": {
      "text/plain": [
       "True"
      ]
     },
     "execution_count": 21,
     "metadata": {},
     "output_type": "execute_result"
    }
   ],
   "source": [
    "3.0 == 3"
   ]
  },
  {
   "cell_type": "code",
   "execution_count": 22,
   "id": "fadf47dd",
   "metadata": {},
   "outputs": [],
   "source": [
    "l_one = [1,2,[3,4]]\n",
    "l_two = [1,2,{'k1':4}]"
   ]
  },
  {
   "cell_type": "code",
   "execution_count": 24,
   "id": "453f28ed",
   "metadata": {},
   "outputs": [
    {
     "data": {
      "text/plain": [
       "False"
      ]
     },
     "execution_count": 24,
     "metadata": {},
     "output_type": "execute_result"
    }
   ],
   "source": [
    "l_one[2][0] >= l_two[2]['k1']\n",
    "# 3 !=> 4 so false. Now let's run"
   ]
  },
  {
   "cell_type": "markdown",
   "id": "1bc835fb",
   "metadata": {},
   "source": [
    "## Mukesh Assesment"
   ]
  },
  {
   "cell_type": "markdown",
   "id": "59f35c51",
   "metadata": {},
   "source": [
    "### Generate prime numbers upto specified number"
   ]
  },
  {
   "cell_type": "code",
   "execution_count": 8,
   "id": "6e78aef5",
   "metadata": {},
   "outputs": [
    {
     "name": "stdout",
     "output_type": "stream",
     "text": [
      "Enter the number upto which you find prime numbers20\n",
      "The prime numbers upto  20  are:\n",
      "1\n",
      "2\n",
      "3\n",
      "5\n",
      "7\n",
      "11\n",
      "13\n",
      "17\n",
      "19\n"
     ]
    }
   ],
   "source": [
    "number = int(input(\"Enter the number upto which you find prime numbers\"))\n",
    "print('The prime numbers upto ', number, ' are:')\n",
    "def prime_numbers(n):\n",
    "    for num in range(1,n):\n",
    "        for i in range(2,num):\n",
    "            if num % i == 0:\n",
    "                break\n",
    "        else:\n",
    "            print(num)\n",
    "prime_numbers(number)"
   ]
  },
  {
   "cell_type": "code",
   "execution_count": null,
   "id": "8fa8910f",
   "metadata": {},
   "outputs": [],
   "source": []
  }
 ],
 "metadata": {
  "kernelspec": {
   "display_name": "Python 3",
   "language": "python",
   "name": "python3"
  },
  "language_info": {
   "codemirror_mode": {
    "name": "ipython",
    "version": 3
   },
   "file_extension": ".py",
   "mimetype": "text/x-python",
   "name": "python",
   "nbconvert_exporter": "python",
   "pygments_lexer": "ipython3",
   "version": "3.6.9"
  }
 },
 "nbformat": 4,
 "nbformat_minor": 5
}
