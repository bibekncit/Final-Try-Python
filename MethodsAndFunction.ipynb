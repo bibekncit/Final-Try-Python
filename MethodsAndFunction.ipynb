{
 "cells": [
  {
   "cell_type": "code",
   "execution_count": 1,
   "id": "91bb9913",
   "metadata": {},
   "outputs": [
    {
     "data": {
      "text/plain": [
       "[1, 2, 3, 4]"
      ]
     },
     "execution_count": 1,
     "metadata": {},
     "output_type": "execute_result"
    }
   ],
   "source": [
    "mylist = [1,2,3]\n",
    "mylist.append(4)\n",
    "mylist"
   ]
  },
  {
   "cell_type": "code",
   "execution_count": 2,
   "id": "73ea86be",
   "metadata": {},
   "outputs": [
    {
     "data": {
      "text/plain": [
       "4"
      ]
     },
     "execution_count": 2,
     "metadata": {},
     "output_type": "execute_result"
    }
   ],
   "source": [
    "mylist.pop()"
   ]
  },
  {
   "cell_type": "code",
   "execution_count": 7,
   "id": "07efe8e7",
   "metadata": {},
   "outputs": [
    {
     "name": "stdout",
     "output_type": "stream",
     "text": [
      "Help on built-in function insert:\n",
      "\n",
      "insert(...) method of builtins.list instance\n",
      "    L.insert(index, object) -- insert object before index\n",
      "\n"
     ]
    }
   ],
   "source": [
    "help(mylist.insert)"
   ]
  },
  {
   "cell_type": "code",
   "execution_count": 8,
   "id": "a6108880",
   "metadata": {},
   "outputs": [
    {
     "data": {
      "text/plain": [
       "<function __main__.name_function()>"
      ]
     },
     "execution_count": 8,
     "metadata": {},
     "output_type": "execute_result"
    }
   ],
   "source": [
    "def name_function():\n",
    "    print('Hello')\n",
    "name_function"
   ]
  },
  {
   "cell_type": "code",
   "execution_count": 9,
   "id": "0f4f6d82",
   "metadata": {},
   "outputs": [
    {
     "name": "stdout",
     "output_type": "stream",
     "text": [
      "Hello\n"
     ]
    }
   ],
   "source": [
    "name_function()"
   ]
  },
  {
   "cell_type": "code",
   "execution_count": 5,
   "id": "85b623ee",
   "metadata": {},
   "outputs": [],
   "source": [
    "  def say_hello(name= 'Name'):\n",
    "        '''\n",
    "        he  k fk\n",
    "        fg dn  yo comment ho\n",
    "        '''\n",
    "        print('Hello '+ name)\n",
    "        "
   ]
  },
  {
   "cell_type": "code",
   "execution_count": 10,
   "id": "f00325e7",
   "metadata": {},
   "outputs": [
    {
     "name": "stdout",
     "output_type": "stream",
     "text": [
      "Hello Bibek\n"
     ]
    }
   ],
   "source": [
    "result = say_hello('Bibek')\n",
    "result"
   ]
  },
  {
   "cell_type": "code",
   "execution_count": 11,
   "id": "1bc1b407",
   "metadata": {},
   "outputs": [
    {
     "data": {
      "text/plain": [
       "NoneType"
      ]
     },
     "execution_count": 11,
     "metadata": {},
     "output_type": "execute_result"
    }
   ],
   "source": [
    "type(result)"
   ]
  },
  {
   "cell_type": "code",
   "execution_count": 31,
   "id": "c65056fd",
   "metadata": {},
   "outputs": [],
   "source": [
    "def say_hello(name='Name'):\n",
    "    return 'Hello '+name\n"
   ]
  },
  {
   "cell_type": "code",
   "execution_count": 33,
   "id": "b5324f60",
   "metadata": {},
   "outputs": [
    {
     "data": {
      "text/plain": [
       "'Hello Name'"
      ]
     },
     "execution_count": 33,
     "metadata": {},
     "output_type": "execute_result"
    }
   ],
   "source": [
    "result = say_hello()\n",
    "result"
   ]
  },
  {
   "cell_type": "code",
   "execution_count": 34,
   "id": "dd317f75",
   "metadata": {},
   "outputs": [],
   "source": [
    "def say_hello(name='Name'):\n",
    "    return 'Hello ',name   #returns in tuple\n"
   ]
  },
  {
   "cell_type": "code",
   "execution_count": 36,
   "id": "de534707",
   "metadata": {},
   "outputs": [
    {
     "data": {
      "text/plain": [
       "('Hello ', 'Name')"
      ]
     },
     "execution_count": 36,
     "metadata": {},
     "output_type": "execute_result"
    }
   ],
   "source": [
    " result=say_hello()\n",
    "result"
   ]
  },
  {
   "cell_type": "code",
   "execution_count": 38,
   "id": "fe207d0c",
   "metadata": {},
   "outputs": [
    {
     "data": {
      "text/plain": [
       "7"
      ]
     },
     "execution_count": 38,
     "metadata": {},
     "output_type": "execute_result"
    }
   ],
   "source": [
    "def add(n1,n2):\n",
    "    return n1+n2\n",
    "result = add(5,2)\n",
    "result"
   ]
  },
  {
   "cell_type": "code",
   "execution_count": 47,
   "id": "8de65775",
   "metadata": {},
   "outputs": [],
   "source": [
    "#Find out if word 'dog' in a string\n",
    "def dog_check(mystring):\n",
    "    return 'dog' in mystring.lower()"
   ]
  },
  {
   "cell_type": "code",
   "execution_count": 48,
   "id": "7d0dadea",
   "metadata": {},
   "outputs": [
    {
     "data": {
      "text/plain": [
       "True"
      ]
     },
     "execution_count": 48,
     "metadata": {},
     "output_type": "execute_result"
    }
   ],
   "source": [
    "dog_check('I loveDOg')"
   ]
  },
  {
   "cell_type": "code",
   "execution_count": 1,
   "id": "54b25d64",
   "metadata": {},
   "outputs": [
    {
     "data": {
      "text/plain": [
       "False"
      ]
     },
     "execution_count": 1,
     "metadata": {},
     "output_type": "execute_result"
    }
   ],
   "source": [
    "'cat'in 'kathcamant'"
   ]
  },
  {
   "cell_type": "markdown",
   "id": "c4dc25c6",
   "metadata": {},
   "source": [
    "### PIg Lation"
   ]
  },
  {
   "cell_type": "markdown",
   "id": "d384ba92",
   "metadata": {},
   "source": [
    " \\* if the word starts with vowel add 'ay' to end\n",
    "    if not vowel put first letter to end & add 'ay'\n",
    "    eg word --> ordway\n",
    "        apple --> appleay  */"
   ]
  },
  {
   "cell_type": "code",
   "execution_count": 13,
   "id": "c8298d11",
   "metadata": {},
   "outputs": [
    {
     "name": "stdout",
     "output_type": "stream",
     "text": [
      "Enter the wordhi\n",
      "The encrypted word is  ihay\n"
     ]
    }
   ],
   "source": [
    "asked_word = input('Enter the word')\n",
    "def pig_latin(word):\n",
    "    first_letter = word[0]\n",
    "    \n",
    "    #check if vowel\n",
    "    if first_letter in 'aeiou':\n",
    "        word = word + 'ay'\n",
    "\n",
    "    else:\n",
    "        word = word[1:] + word[0] + 'ay'\n",
    "    return word\n",
    "demo_word = pig_latin(asked_word.lower())\n",
    "print('The encrypted word is ',demo_word)\n"
   ]
  },
  {
   "cell_type": "markdown",
   "id": "1bf827ee",
   "metadata": {},
   "source": [
    "## kwags and args"
   ]
  },
  {
   "cell_type": "code",
   "execution_count": 14,
   "id": "0eabd749",
   "metadata": {},
   "outputs": [],
   "source": [
    "def myfunc(*args):\n",
    "    print(args) #gets in tuple"
   ]
  },
  {
   "cell_type": "code",
   "execution_count": 16,
   "id": "c3ac9921",
   "metadata": {},
   "outputs": [
    {
     "name": "stdout",
     "output_type": "stream",
     "text": [
      "(3, 2, 34, 'bibek')\n"
     ]
    }
   ],
   "source": [
    "myfunc(3,2,34,'bibek')"
   ]
  },
  {
   "cell_type": "code",
   "execution_count": 17,
   "id": "2c79b04b",
   "metadata": {},
   "outputs": [
    {
     "data": {
      "text/plain": [
       "14"
      ]
     },
     "execution_count": 17,
     "metadata": {},
     "output_type": "execute_result"
    }
   ],
   "source": [
    "def myfunc(*args):\n",
    "    return sum(args)\n",
    "myfunc(2,3,4,5)"
   ]
  },
  {
   "cell_type": "code",
   "execution_count": 45,
   "id": "ddee8d62",
   "metadata": {},
   "outputs": [],
   "source": [
    "def myfunc(**kwargs): #keyword arguments\n",
    "    #Gets in dictionary\n",
    "    print(kwargs)\n",
    "    if 'fruit' in kwargs:\n",
    "        print('My fruit of choice is {}'.format(kwargs['fruit']))\n",
    "    else:\n",
    "        print('No favourite fruit found')\n",
    "    "
   ]
  },
  {
   "cell_type": "code",
   "execution_count": 47,
   "id": "2c847931",
   "metadata": {},
   "outputs": [
    {
     "name": "stdout",
     "output_type": "stream",
     "text": [
      "{'fruit': 'apple', 'vegetable': 'brocauli'}\n",
      "My fruit of choice is apple\n"
     ]
    }
   ],
   "source": [
    "myfunc(fruit = 'apple',vegetable = 'brocauli')"
   ]
  },
  {
   "cell_type": "code",
   "execution_count": 65,
   "id": "ecea58dd",
   "metadata": {},
   "outputs": [],
   "source": [
    "def myfunc(*args,**kwargs):\n",
    "    \n",
    "    print('I would like {} {}'.format(args[0],kwargs['fruit']))"
   ]
  },
  {
   "cell_type": "code",
   "execution_count": 66,
   "id": "8dec405e",
   "metadata": {
    "scrolled": false
   },
   "outputs": [
    {
     "name": "stdout",
     "output_type": "stream",
     "text": [
      "I would like 10 apple\n"
     ]
    }
   ],
   "source": [
    "myfunc(10,20,30,fruit = 'apple',food = 'Rice')"
   ]
  },
  {
   "cell_type": "code",
   "execution_count": 1,
   "id": "6b174413",
   "metadata": {},
   "outputs": [
    {
     "data": {
      "text/plain": [
       "10"
      ]
     },
     "execution_count": 1,
     "metadata": {},
     "output_type": "execute_result"
    }
   ],
   "source": [
    "list = [1,2,3,4]\n",
    "sum(list)"
   ]
  },
  {
   "cell_type": "code",
   "execution_count": null,
   "id": "9bcf0703",
   "metadata": {},
   "outputs": [],
   "source": []
  }
 ],
 "metadata": {
  "kernelspec": {
   "display_name": "Python 3",
   "language": "python",
   "name": "python3"
  },
  "language_info": {
   "codemirror_mode": {
    "name": "ipython",
    "version": 3
   },
   "file_extension": ".py",
   "mimetype": "text/x-python",
   "name": "python",
   "nbconvert_exporter": "python",
   "pygments_lexer": "ipython3",
   "version": "3.6.9"
  }
 },
 "nbformat": 4,
 "nbformat_minor": 5
}
